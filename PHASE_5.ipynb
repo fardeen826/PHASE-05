{
  "nbformat": 4,
  "nbformat_minor": 0,
  "metadata": {
    "colab": {
      "provenance": [],
      "authorship_tag": "ABX9TyPqo/cyFPMAnj9CERr0HSLe",
      "include_colab_link": true
    },
    "kernelspec": {
      "name": "python3",
      "display_name": "Python 3"
    },
    "language_info": {
      "name": "python"
    }
  },
  "cells": [
    {
      "cell_type": "markdown",
      "metadata": {
        "id": "view-in-github",
        "colab_type": "text"
      },
      "source": [
        "<a href=\"https://colab.research.google.com/github/fardeen826/PHASE-05/blob/main/PHASE_5.ipynb\" target=\"_parent\"><img src=\"https://colab.research.google.com/assets/colab-badge.svg\" alt=\"Open In Colab\"/></a>"
      ]
    },
    {
      "cell_type": "code",
      "execution_count": 1,
      "metadata": {
        "colab": {
          "base_uri": "https://localhost:8080/"
        },
        "id": "kMH0U_gZ35Rg",
        "outputId": "f6ddbdc2-bdd2-4b8c-ff72-f51da88ad391"
      },
      "outputs": [
        {
          "output_type": "stream",
          "name": "stdout",
          "text": [
            "Starting AI-EBPL Structural Health Monitoring System...\n",
            "\n",
            "Sensor Data: {'strain': 3.8041776548507746, 'vibration': 5.625895506010269, 'temperature': 23.13285090773325}\n",
            "System Status: All Normal\n",
            "\n",
            "Sensor Data: {'strain': 4.017202096854433, 'vibration': 0.17448183779004997, 'temperature': 26.353787623723704}\n",
            "System Status: All Normal\n",
            "\n",
            "Sensor Data: {'strain': 3.814362642044099, 'vibration': 6.422362943742327, 'temperature': 29.07031271958192}\n",
            "System Status: All Normal\n",
            "\n",
            "Sensor Data: {'strain': 3.708644021663912, 'vibration': 0.40264492471892166, 'temperature': 21.777714108612066}\n",
            "System Status: All Normal\n",
            "\n",
            "Sensor Data: {'strain': 3.5391805514294568, 'vibration': 9.07483054497418, 'temperature': 44.70580776689614}\n",
            "System Status: All Normal\n",
            "\n",
            "Sensor Data: {'strain': 0.8545472385669342, 'vibration': 7.517466074687817, 'temperature': 27.25760643246505}\n",
            "System Status: All Normal\n",
            "\n",
            "Sensor Data: {'strain': 3.162350367194612, 'vibration': 7.076817502994846, 'temperature': 29.094582971661595}\n",
            "System Status: All Normal\n",
            "\n",
            "Sensor Data: {'strain': 4.64251644096797, 'vibration': 6.363091818529893, 'temperature': 30.209024830682154}\n",
            "System Status: All Normal\n",
            "\n",
            "Sensor Data: {'strain': 4.900256316835188, 'vibration': 8.773919595107019, 'temperature': 33.496385196261784}\n",
            "System Status: ALERT: Anomaly Confirmed!\n",
            "\n",
            "Sensor Data: {'strain': 4.487139362194861, 'vibration': 7.546130989906544, 'temperature': 26.81745404363145}\n",
            "System Status: All Normal\n",
            "\n",
            "Sensor Data: {'strain': 1.6446278808262154, 'vibration': 7.130484697356118, 'temperature': 43.79450810186904}\n",
            "System Status: All Normal\n",
            "\n",
            "Sensor Data: {'strain': 0.5271367431951544, 'vibration': 6.9234187478305556, 'temperature': 26.34815436713719}\n",
            "System Status: All Normal\n",
            "\n",
            "Sensor Data: {'strain': 3.541624980889835, 'vibration': 5.34613174118771, 'temperature': 22.37679139151762}\n",
            "System Status: All Normal\n",
            "\n",
            "Sensor Data: {'strain': 2.4627318180754796, 'vibration': 0.3170891503988377, 'temperature': 17.922954283051517}\n",
            "System Status: All Normal\n",
            "\n",
            "Sensor Data: {'strain': 4.799816325543417, 'vibration': 4.310421503994049, 'temperature': 29.144110636901033}\n",
            "System Status: All Normal\n",
            "\n"
          ]
        }
      ],
      "source": [
        "import random\n",
        "import time\n",
        "import logging\n",
        "\n",
        "# Configure logging\n",
        "logging.basicConfig(filename=\"shm_log.txt\", level=logging.INFO, format=\"%(asctime)s - %(message)s\")\n",
        "\n",
        "# Simulated sensor data generator\n",
        "def generate_sensor_data():\n",
        "    return {\n",
        "        'strain': random.uniform(0.1, 5.0),  # arbitrary unit\n",
        "        'vibration': random.uniform(0.1, 10.0),  # Hz\n",
        "        'temperature': random.uniform(15.0, 45.0)  # °C\n",
        "    }\n",
        "\n",
        "# Simulated AI model for anomaly detection\n",
        "def ai_model(sensor_data):\n",
        "    if sensor_data['strain'] > 4.0 or sensor_data['vibration'] > 8.0:\n",
        "        return \"Anomaly Detected\"\n",
        "    return \"Normal\"\n",
        "\n",
        "# EBPL rules for verifying AI output\n",
        "def ebpl_verification(sensor_data, ai_output):\n",
        "    # Rule-based validation: confirm anomaly only if multiple parameters exceed thresholds\n",
        "    if ai_output == \"Anomaly Detected\":\n",
        "        if sensor_data['strain'] > 4.0 and sensor_data['vibration'] > 8.0:\n",
        "            return True  # Confirmed anomaly\n",
        "        else:\n",
        "            return False  # False positive\n",
        "    return False\n",
        "\n",
        "# Visualization (console output for simplicity)\n",
        "def display_status(sensor_data, status):\n",
        "    print(f\"Sensor Data: {sensor_data}\")\n",
        "    print(f\"System Status: {status}\\n\")\n",
        "\n",
        "# Real-time monitoring simulation\n",
        "def monitor(duration_seconds=10, interval=1):\n",
        "    start_time = time.time()\n",
        "    while time.time() - start_time < duration_seconds:\n",
        "        data = generate_sensor_data()\n",
        "        ai_result = ai_model(data)\n",
        "        verified = ebpl_verification(data, ai_result)\n",
        "\n",
        "        status = \"ALERT: Anomaly Confirmed!\" if verified else \"All Normal\"\n",
        "        display_status(data, status)\n",
        "\n",
        "        # Log if there's an alert\n",
        "        if verified:\n",
        "            logging.info(f\"Anomaly confirmed with data: {data}\")\n",
        "        elif ai_result == \"Anomaly Detected\":\n",
        "            logging.info(f\"False positive detected by AI, EBPL blocked it. Data: {data}\")\n",
        "\n",
        "        time.sleep(interval)\n",
        "\n",
        "if __name__ == \"__main__\":\n",
        "    print(\"Starting AI-EBPL Structural Health Monitoring System...\\n\")\n",
        "    monitor(duration_seconds=30, interval=2)  # Monitor for 30 seconds"
      ]
    }
  ]
}